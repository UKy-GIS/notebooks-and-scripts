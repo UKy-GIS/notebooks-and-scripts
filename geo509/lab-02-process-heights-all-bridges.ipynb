{
 "cells": [
  {
   "cell_type": "markdown",
   "metadata": {},
   "source": [
    "# Calculating bridge heights\n",
    "\n",
    "For every bridge location, the DEM is subtracted from the DSM to approximate bridge height above stream.\n"
   ]
  },
  {
   "cell_type": "code",
   "execution_count": 1,
   "metadata": {},
   "outputs": [],
   "source": [
    "# Import ArcGIS package\n",
    "import arcpy"
   ]
  },
  {
   "cell_type": "code",
   "execution_count": 2,
   "metadata": {},
   "outputs": [],
   "source": [
    "######### MODIFY THIS CELL: change to variables to match your local environment ######### \n",
    "\n",
    "# Where is your root GIS folder?\n",
    "r = 'c:\\\\BoydsGIS'\n",
    "\n",
    "# What is your project's folder name?\n",
    "p = 'BridgeHeights'\n",
    "\n",
    "# What is your bridges layer name?\n",
    "b = 'bridges_509'"
   ]
  },
  {
   "cell_type": "code",
   "execution_count": 3,
   "metadata": {},
   "outputs": [
    {
     "name": "stdout",
     "output_type": "stream",
     "text": [
      "['bridges_509', 'brdg_buf_10ft', 'bridges_509_1']\n"
     ]
    }
   ],
   "source": [
    "# Set up our environment\n",
    "arcpy.env.workspace = f'{r}\\\\{p}\\\\{p}.gdb'\n",
    "ky = arcpy.SpatialReference(3089)\n",
    "arcpy.env.outputCoordinateSystem = ky\n",
    "arcpy.env.overwriteOutput = True\n",
    "dsm = 'https://kyraster.ky.gov/arcgis/rest/services/ElevationServices/Ky_DSM_First_Return_5FT_Phase1/ImageServer'\n",
    "dem = 'https://kyraster.ky.gov/arcgis/rest/services/ElevationServices/Ky_DEM_KYAPED_5FT/ImageServer'\n",
    "print(arcpy.ListFeatureClasses())"
   ]
  },
  {
   "cell_type": "code",
   "execution_count": 6,
   "metadata": {},
   "outputs": [
    {
     "data": {
      "text/html": [
       "<div class='gpresult'><h2>Messages</h2><div id='messages' data-messages='[\"Start Time: Monday, November 28, 2022 10:38:58 PM\",\"Succeeded at Monday, November 28, 2022 10:39:41 PM (Elapsed Time: 43.32 seconds)\"]' data-show='true'><div id = 'default' /></div></div>"
      ],
      "text/plain": [
       "<geoprocessing server result object object at 0x00000174114BBB40>"
      ]
     },
     "execution_count": 6,
     "metadata": {},
     "output_type": "execute_result"
    }
   ],
   "source": [
    "# Create layer showing absolute bridge height\n",
    "arcpy.sa.ExtractValuesToPoints(b, dsm, 'b_dsm')"
   ]
  },
  {
   "cell_type": "code",
   "execution_count": 7,
   "metadata": {},
   "outputs": [
    {
     "data": {
      "text/html": [
       "<div class='gpresult'><h2>Messages</h2><div id='messages' data-messages='[\"Start Time: Monday, November 28, 2022 10:58:28 PM\",\"Succeeded at Monday, November 28, 2022 10:59:15 PM (Elapsed Time: 46.44 seconds)\"]' data-show='true'><div id = 'default' /></div></div>"
      ],
      "text/plain": [
       "<geoprocessing server result object object at 0x00000174114BB990>"
      ]
     },
     "execution_count": 7,
     "metadata": {},
     "output_type": "execute_result"
    }
   ],
   "source": [
    "# Create layer showing absolute height below bridge\n",
    "arcpy.sa.ExtractValuesToPoints(b, dem, 'b_dem')"
   ]
  },
  {
   "cell_type": "markdown",
   "metadata": {},
   "source": [
    "## Table join\n",
    "\n",
    "Using the `OBJECTID` field, table join `b_dsm` to `b_dem` and calculate a need field that subtracts the DEM rastervalue from the DSM rastervalue."
   ]
  },
  {
   "cell_type": "code",
   "execution_count": null,
   "metadata": {},
   "outputs": [],
   "source": []
  }
 ],
 "metadata": {
  "kernelspec": {
   "display_name": "ArcGISPro",
   "language": "Python",
   "name": "python3"
  },
  "language_info": {
   "file_extension": ".py",
   "name": "python",
   "version": "3"
  }
 },
 "nbformat": 4,
 "nbformat_minor": 2
}
