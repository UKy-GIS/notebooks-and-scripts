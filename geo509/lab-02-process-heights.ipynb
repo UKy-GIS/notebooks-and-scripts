{
 "cells": [
  {
   "cell_type": "markdown",
   "metadata": {},
   "source": [
    "# Creating colorized point clouds for bridges\n",
    "\n",
    "This lab will create and colorize point clouds for three bridges in your study area and calculate their height above the stream. You will use these point clouds (and thier derivatives) to measure the physical properties of these bridges. If we find that the calculated bridge height is close to the measured height, we will use part of this analysis on all bridges.\n",
    "\n",
    "## Instructions\n",
    "\n",
    "1. Create a new ArcGIS Pro **Map** Project with a name that does not contain spaces.\n",
    "2. Verify your project name and that the project contains a geodatabase using the project name.\n",
    "3. Add you bridges layer you created in the first lab. Select three bridges; one bridge that was in the original data, one that you found and digitized, and one that you suspect is a typical private bridge. Export those three bridges to the geodatabase that was created in Step 1.\n",
    "4. Modify the cell below that sets the variables for your local environment. You should not need to modify any other cell.\n",
    "5. Run the remaining cells in order, top down. If you get errors, check your variables again. Rerun that cell and continue."
   ]
  },
  {
   "cell_type": "code",
   "execution_count": null,
   "metadata": {},
   "outputs": [],
   "source": [
    "# Import ArcGIS package\n",
    "import arcpy\n",
    "# Subprocess allows us to issue laszip64.exe commands on the command line\n",
    "import subprocess"
   ]
  },
  {
   "cell_type": "code",
   "execution_count": null,
   "metadata": {},
   "outputs": [],
   "source": [
    "######### MODIFY THIS CELL: change to variables to match your local environment ######### \n",
    "\n",
    "# Where is your root GIS folder?\n",
    "r = 'c:\\\\BoydsGIS'\n",
    "\n",
    "# What is your project's folder name?\n",
    "p = 'three_bridges'\n",
    "\n",
    "# What is your bridges layer name?\n",
    "b = 'example_bridges'\n",
    "\n",
    "# Where is the laszip64.exe located on your computer?\n",
    "e = 'c:\\\\BoydsGIS\\\\data\\\\laszip64.exe'\n",
    "\n",
    "# Where is the KyFromAbove_Data_Product_Tile_Grids geodatabase located on your computer?\n",
    "t = 'c:\\\\BoydsGIS\\\\data\\\\KyFromAbove_Data_Product_Tile_Grids.gdb'\n",
    "\n",
    "# How far do you want to extract point cloud data from your bridges?\n",
    "# This distance is in feet.\n",
    "buffer = 500"
   ]
  },
  {
   "cell_type": "code",
   "execution_count": null,
   "metadata": {},
   "outputs": [],
   "source": [
    "# Set up our environment\n",
    "arcpy.env.workspace = f'{r}\\\\{p}\\\\{p}.gdb'\n",
    "ky = arcpy.SpatialReference(3089)\n",
    "arcpy.env.outputCoordinateSystem = ky\n",
    "arcpy.env.overwriteOutput = True\n",
    "pd = f'{r}\\\\{p}\\\\download\\\\'\n",
    "pl = f'{r}\\\\{p}\\\\las\\\\'\n",
    "pc = f'{r}\\\\{p}\\\\colorize\\\\'\n",
    "subprocess.run(f'mkdir {pd}', shell=True)\n",
    "subprocess.run(f'mkdir {pl}', shell=True)\n",
    "subprocess.run(f'mkdir {pc}', shell=True)\n",
    "ro = f'{r}\\\\{p}'\n",
    "bo = f'brdg_buf_{buffer}ft'\n",
    "bands = 'RED Band_1; GREEN Band_2; BLUE Band_3'\n",
    "img = 'https://kyraster.ky.gov/arcgis/rest/services/ImageServices/Ky_KYAPED_Phase1_6IN/ImageServer'\n",
    "nmg = 'https://kyraster.ky.gov/arcgis/rest/services/ImageServices/Ky_NAIP_2012_1M/ImageServer'\n",
    "dsm = 'https://kyraster.ky.gov/arcgis/rest/services/ElevationServices/Ky_DSM_First_Return_5FT_Phase1/ImageServer'\n",
    "dem = 'https://kyraster.ky.gov/arcgis/rest/services/ElevationServices/Ky_DEM_KYAPED_5FT/ImageServer'\n",
    "print(arcpy.ListFeatureClasses())"
   ]
  },
  {
   "cell_type": "code",
   "execution_count": null,
   "metadata": {},
   "outputs": [],
   "source": [
    "# Buffer the bridges lauer\n",
    "arcpy.analysis.Buffer(b, bo, buffer)"
   ]
  },
  {
   "cell_type": "code",
   "execution_count": null,
   "metadata": {},
   "outputs": [],
   "source": [
    "# Find the tiles that we need to download\n",
    "arcpy.env.addOutputsToMap = False\n",
    "selection = arcpy.management.SelectLayerByLocation(f'{t}\\\\Kentucky_5k_PointCloudGrid', \"INTERSECT\", bo)\n",
    "arcpy.env.addOutputsToMap = True\n",
    "arcpy.conversion.ExportFeatures(selection, 'tiles_to_download')"
   ]
  },
  {
   "cell_type": "code",
   "execution_count": null,
   "metadata": {},
   "outputs": [],
   "source": [
    "# Decompress our lAZ files and assemble the LAS dataset\n",
    "las = []\n",
    "subprocess.run(f'dir {pd}\\\\*.laz /b > {pd}\\\\zips.txt', shell=True, stdout=subprocess.PIPE)\n",
    "with open(f'{pd}\\\\zips.txt', 'r') as fileList:\n",
    "    for line in fileList:\n",
    "        name = line.strip()\n",
    "        subprocess.run(f'{e} -i {pd}\\\\{name} -o {pl}\\\\{name[:-4]}.las', shell=True, stdout=subprocess.PIPE)\n",
    "        las.append(f'{pl}\\\\{name[:-4]}.las')\n",
    "arcpy.CreateLasDataset_management (las, f'{ro}\\\\aoi.lasd', \"#\", \"#\", ky, True, True)"
   ]
  },
  {
   "cell_type": "code",
   "execution_count": null,
   "metadata": {},
   "outputs": [],
   "source": [
    "# Iterate over each bridge AOI and do analysis\n",
    "arcpy.env.addOutputsToMap = False\n",
    "lasd = f'{ro}\\\\aoi.lasd'\n",
    "with arcpy.da.SearchCursor(bo,['SHAPE@','OBJECTID']) as cursor:\n",
    "    for row in cursor:\n",
    "        r0 = row[0]\n",
    "        r1 = row[1]\n",
    "        print(f'Processing AOI {r1}...')\n",
    "        eaoi = f'{pl}aoi_{r1}'\n",
    "        caoi = f'{pc}aoi_{r1}'\n",
    "        subprocess.run(f'mkdir {eaoi}', shell=True)\n",
    "        subprocess.run(f'mkdir {caoi}', shell=True)\n",
    "        subprocess.run(f'del /q {caoi}\\\\*.*', shell=True)\n",
    "        print(f'Extracting point cloud...')\n",
    "        arcpy.ExtractLas_3d (lasd, eaoi, \"#\", r0,  \"#\", \"_e\", \"#\", \"#\", True, f'{ro}\\\\aoi_{r1}.lasd')\n",
    "        print(f'Clipping aerial photography...')\n",
    "        arcpy.management.Clip(img, '#', f'img_6in_aoi_{row[1]}', row[0], '#', True)\n",
    "        print(f'Colorizing point cloud...')\n",
    "        arcpy.ColorizeLas_3d (f'{ro}\\\\aoi_{r1}.lasd', f'img_6in_aoi_{r1}', bands, caoi, \"_rgb\", \"#\", \"#\",\"#\", \"#\", True, f'{ro}\\\\aoi_{r1}_rgb.lasd')\n",
    "        print(f'Clipping DSM...')\n",
    "        arcpy.management.Clip(dsm, '#', f'dsm_5ft_aoi_{r1}', r0, '#', True)\n",
    "        arcpy.HillShade_3d(f'dsm_5ft_aoi_{r1}', f'hillshade_dsm_aoi_{r1}')\n",
    "        print(f'Clipping DEM...')\n",
    "        arcpy.management.Clip(dem, '#', f'dem_5ft_aoi_{r1}', r0, '#', True)\n",
    "        print(f'Calculating height of above-ground features...')\n",
    "        minus = arcpy.sa.Minus(f'dsm_5ft_aoi_{r1}',f'dem_5ft_aoi_{r1}')\n",
    "        minus.save(f'height_aoi_{r1}')\n",
    "        print(f'Adding height to {b} layer as field \"Z\" in feet above stream...')\n",
    "        selection = arcpy.management.SelectLayerByAttribute(b, '#', f\"OBJECTID = {r1}\")\n",
    "        arcpy.sa.AddSurfaceInformation(selection, minus, 'Z')\n",
    "        print(f'Removing {ro}\\\\aoi_{r1}.lasd and {eaoi}')\n",
    "        subprocess.run(f'del {ro}\\\\aoi_{r1}.lasd', shell=True)\n",
    "        subprocess.run(f'rmdir /s /q {eaoi}', shell=True)\n",
    "        print(f'Processing complete for AOI {r1}\\n')\n",
    "\n",
    "print('Finished!')\n",
    "arcpy.env.addOutputsToMap = True"
   ]
  }
 ],
 "metadata": {
  "kernelspec": {
   "display_name": "ArcGISPro",
   "language": "Python",
   "name": "python3"
  },
  "language_info": {
   "file_extension": ".py",
   "name": "python",
   "version": "3"
  }
 },
 "nbformat": 4,
 "nbformat_minor": 2
}
